{
 "cells": [
  {
   "cell_type": "markdown",
   "id": "e706a1e9",
   "metadata": {},
   "source": [
    "# Microscope\n",
    "Simple viewer for a microscope which is in fact a web camera with a different lens.\n",
    "See https://github.com/vaclavhanzl/microscope"
   ]
  },
  {
   "cell_type": "code",
   "execution_count": 23,
   "id": "ac5efd90",
   "metadata": {},
   "outputs": [
    {
     "data": {
      "text/html": [
       "<style>.container { width:100% !important; }</style>"
      ],
      "text/plain": [
       "<IPython.core.display.HTML object>"
      ]
     },
     "metadata": {},
     "output_type": "display_data"
    },
    {
     "data": {
      "text/html": [
       "<style>.prompt_container{width: 11ex !important; }</style>"
      ],
      "text/plain": [
       "<IPython.core.display.HTML object>"
      ]
     },
     "metadata": {},
     "output_type": "display_data"
    },
    {
     "data": {
      "text/html": [
       "<style>div.prompt{min-width: 11ex; }</style>"
      ],
      "text/plain": [
       "<IPython.core.display.HTML object>"
      ]
     },
     "metadata": {},
     "output_type": "display_data"
    }
   ],
   "source": [
    "# Use full width and waste less space on prompts on the left:\n",
    "from IPython.display import display, HTML\n",
    "display(HTML(\"<style>.container { width:100% !important; }</style>\"))\n",
    "display(HTML(\"<style>.prompt_container{width: 11ex !important; }</style>\"))\n",
    "display(HTML(\"<style>div.prompt{min-width: 11ex; }</style>\"))"
   ]
  },
  {
   "cell_type": "code",
   "execution_count": 24,
   "id": "1162dc6f",
   "metadata": {},
   "outputs": [
    {
     "data": {
      "text/html": [
       "<style>\n",
       "#imgDiv {\n",
       "    margin: 0px auto;\n",
       "    width: 1024px;\n",
       "    height: 768px;\n",
       "    border: 0px #333 solid;\n",
       "}\n",
       "#vid {\n",
       "    width: 1024px;\n",
       "    height: 768px;\n",
       "    background-color: #666;\n",
       "    -webkit-transform: scaleX(-1);\n",
       "    transform: scaleX(-1);\n",
       "}\n",
       "</style>\n",
       "</head>\n",
       "<body>\n",
       "<div id=\"imgDiv\">\n",
       "    <video autoplay=\"true\" id=\"vid\">\n",
       "    </video>\n",
       "</div>\n",
       "<script>\n",
       "var video = document.querySelector(\"#vid\");\n",
       "\n",
       "if (navigator.mediaDevices.getUserMedia) {\n",
       "  navigator.mediaDevices.getUserMedia({ video: true })\n",
       "    .then(function (stream) {\n",
       "      video.srcObject = stream;\n",
       "    })\n",
       "    .catch(function (err) {\n",
       "      console.log(\"Microscope viewer cannot get the video stream\");\n",
       "    });\n",
       "}\n",
       "</script>\n"
      ],
      "text/plain": [
       "<IPython.core.display.HTML object>"
      ]
     },
     "metadata": {},
     "output_type": "display_data"
    }
   ],
   "source": [
    "%%html\n",
    "<style>\n",
    "#imgDiv {\n",
    "    margin: 0px auto;\n",
    "    width: 1024px;\n",
    "    height: 768px;\n",
    "    border: 0px #333 solid;\n",
    "}\n",
    "#vid {\n",
    "    width: 1024px;\n",
    "    height: 768px;\n",
    "    background-color: #666;\n",
    "    -webkit-transform: scaleX(-1);\n",
    "    transform: scaleX(-1);\n",
    "}\n",
    "</style>\n",
    "</head>\n",
    "<body>\n",
    "<div id=\"imgDiv\">\n",
    "    <video autoplay=\"true\" id=\"vid\">\n",
    "    </video>\n",
    "</div>\n",
    "<script>\n",
    "var video = document.querySelector(\"#vid\");\n",
    "\n",
    "if (navigator.mediaDevices.getUserMedia) {\n",
    "  navigator.mediaDevices.getUserMedia({ video: true })\n",
    "    .then(function (stream) {\n",
    "      video.srcObject = stream;\n",
    "    })\n",
    "    .catch(function (err) {\n",
    "      console.log(\"Microscope viewer cannot get the video stream\");\n",
    "    });\n",
    "}\n",
    "</script>"
   ]
  },
  {
   "cell_type": "code",
   "execution_count": null,
   "id": "ebf6738a",
   "metadata": {},
   "outputs": [],
   "source": []
  }
 ],
 "metadata": {
  "kernelspec": {
   "display_name": "Python 3 (ipykernel)",
   "language": "python",
   "name": "python3"
  },
  "language_info": {
   "codemirror_mode": {
    "name": "ipython",
    "version": 3
   },
   "file_extension": ".py",
   "mimetype": "text/x-python",
   "name": "python",
   "nbconvert_exporter": "python",
   "pygments_lexer": "ipython3",
   "version": "3.10.9"
  }
 },
 "nbformat": 4,
 "nbformat_minor": 5
}
